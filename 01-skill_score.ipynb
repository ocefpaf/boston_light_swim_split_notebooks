{
 "metadata": {
  "kernelspec": {
   "codemirror_mode": {
    "name": "ipython",
    "version": 3
   },
   "display_name": "IOOS (Python 2)",
   "language": "python",
   "name": "ioos_python2"
  },
  "name": "",
  "signature": "sha256:414cbdc28fbb64fab175d9615fb34b57ca1e9931b62bbde70260181396727844"
 },
 "nbformat": 3,
 "nbformat_minor": 0,
 "worksheets": [
  {
   "cells": [
    {
     "cell_type": "markdown",
     "metadata": {},
     "source": [
      "<img style='float: left' width=\"150px\" src=\"http://bostonlightswim.org/wp/wp-content/uploads/2011/08/BLS-front_4-color.jpg\">\n",
      "<br><br>\n",
      "\n",
      "## [The Boston Light Swim](http://bostonlightswim.org/)\n",
      "\n",
      "### Sea Surface Temperature time-series model skill"
     ]
    },
    {
     "cell_type": "markdown",
     "metadata": {},
     "source": [
      "### Load configuration"
     ]
    },
    {
     "cell_type": "code",
     "collapsed": false,
     "input": [
      "import os\n",
      "try:\n",
      "    import cPickle as pickle\n",
      "except ImportError:\n",
      "    import pickle\n",
      "\n",
      "\n",
      "run_name = '2015-08-22'\n",
      "fname = os.path.join(run_name, 'config.pkl')\n",
      "with open(fname, 'rb') as f:\n",
      "    config = pickle.load(f)"
     ],
     "language": "python",
     "metadata": {},
     "outputs": []
    },
    {
     "cell_type": "code",
     "collapsed": false,
     "input": [
      "import numpy as np\n",
      "from pandas import DataFrame, read_csv\n",
      "from utilities import to_html, save_html, apply_skill\n",
      "\n",
      "\n",
      "fname = '{}-all_obs.csv'.format(run_name)\n",
      "all_obs = read_csv(os.path.join(run_name, fname), index_col='name')\n",
      "\n",
      "\n",
      "def rename_cols(df):\n",
      "    columns = dict()\n",
      "    for station in df.columns:\n",
      "        mask = all_obs['station'].astype(str) == station\n",
      "        name = all_obs['station'][mask].index[0]\n",
      "        columns.update({station: name})\n",
      "    return df.rename(columns=columns)"
     ],
     "language": "python",
     "metadata": {},
     "outputs": []
    },
    {
     "cell_type": "code",
     "collapsed": false,
     "input": [
      "from glob import glob\n",
      "from pandas import Panel\n",
      "from utilities import nc2df\n",
      "\n",
      "\n",
      "def load_ncs(run_name):\n",
      "    fname = '{}-{}.nc'.format\n",
      "    ALL_OBS_DATA = nc2df(os.path.join(run_name,\n",
      "                                      fname(run_name, 'OBS_DATA')))\n",
      "    index = ALL_OBS_DATA.index\n",
      "    dfs = dict(OBS_DATA=ALL_OBS_DATA)\n",
      "    for fname in glob(os.path.join(run_name, \"*.nc\")):\n",
      "        if 'OBS_DATA' in fname:\n",
      "            continue\n",
      "        else:\n",
      "            model = fname.split('.')[0].split('-')[-1]\n",
      "            df = nc2df(fname)\n",
      "            # FIXME: Horrible work around duplicate times.\n",
      "            if len(df.index.values) != len(np.unique(df.index.values)):\n",
      "                kw = dict(subset='index', take_last=True)\n",
      "                df = df.reset_index().drop_duplicates(**kw).set_index('index')\n",
      "            kw = dict(method='time', limit=30)\n",
      "            df = df.reindex(index).interpolate(**kw).ix[index]\n",
      "            dfs.update({model: df})\n",
      "\n",
      "    return Panel.fromDict(dfs).swapaxes(0, 2)"
     ],
     "language": "python",
     "metadata": {},
     "outputs": []
    },
    {
     "cell_type": "markdown",
     "metadata": {},
     "source": [
      "### Skill 1: Model Bias (or Mean Bias)\n",
      "\n",
      "The bias skill compares the model mean temperature against the observations.\n",
      "It is possible to introduce a Mean Bias in the model due to a mismatch of the\n",
      "boundary forcing and the model interior.\n",
      "\n",
      "$$ \\text{MB} = \\mathbf{\\overline{m}} - \\mathbf{\\overline{o}}$$"
     ]
    },
    {
     "cell_type": "code",
     "collapsed": false,
     "input": [
      "from utilities import mean_bias\n",
      "\n",
      "dfs = load_ncs(run_name)\n",
      "\n",
      "df = apply_skill(dfs, mean_bias, remove_mean=False, filter_tides=False)\n",
      "df = rename_cols(df)\n",
      "skill_score = dict(mean_bias=df.copy())\n",
      "\n",
      "# Filter out stations with no valid comparison.\n",
      "df.dropna(how='all', axis=1, inplace=True)\n",
      "df = df.applymap('{:.2f}'.format).replace('nan', '--')\n",
      "\n",
      "html = to_html(df.T)\n",
      "fname = os.path.join(run_name, 'mean_bias.html'.format(run_name))\n",
      "save_html(fname, html)\n",
      "html"
     ],
     "language": "python",
     "metadata": {},
     "outputs": []
    },
    {
     "cell_type": "markdown",
     "metadata": {},
     "source": [
      "### Skill 2: Central Root Mean Squared Error\n",
      "\n",
      "Root Mean Squared Error of the deviations from the mean.\n",
      "\n",
      "$$ \\text{CRMS} = \\sqrt{\\left(\\mathbf{m'} - \\mathbf{o'}\\right)^2}$$\n",
      "\n",
      "where: $\\mathbf{m'} = \\mathbf{m} - \\mathbf{\\overline{m}}$ and $\\mathbf{o'} = \\mathbf{o} - \\mathbf{\\overline{o}}$"
     ]
    },
    {
     "cell_type": "code",
     "collapsed": false,
     "input": [
      "from utilities import rmse\n",
      "\n",
      "dfs = load_ncs(run_name)\n",
      "\n",
      "df = apply_skill(dfs, rmse, remove_mean=True, filter_tides=False)\n",
      "df = rename_cols(df)\n",
      "skill_score['rmse'] = df.copy()\n",
      "\n",
      "# Filter out stations with no valid comparison.\n",
      "df.dropna(how='all', axis=1, inplace=True)\n",
      "df = df.applymap('{:.2f}'.format).replace('nan', '--')\n",
      "\n",
      "html = to_html(df.T)\n",
      "fname = os.path.join(run_name, 'rmse.html'.format(run_name))\n",
      "save_html(fname, html)\n",
      "html"
     ],
     "language": "python",
     "metadata": {},
     "outputs": []
    },
    {
     "cell_type": "markdown",
     "metadata": {},
     "source": [
      "### Skill 3: R$^2$\n",
      "https://en.wikipedia.org/wiki/Coefficient_of_determination"
     ]
    },
    {
     "cell_type": "code",
     "collapsed": false,
     "input": [
      "from utilities import r2\n",
      "\n",
      "dfs = load_ncs(run_name)\n",
      "\n",
      "df = apply_skill(dfs, r2, remove_mean=True, filter_tides=False)\n",
      "df = rename_cols(df)\n",
      "skill_score['r2'] = df.copy()\n",
      "\n",
      "# Filter out stations with no valid comparison.\n",
      "df.dropna(how='all', axis=1, inplace=True)\n",
      "df = df.applymap('{:.2f}'.format).replace('nan', '--')\n",
      "\n",
      "html = to_html(df.T)\n",
      "fname = os.path.join(run_name, 'r2.html'.format(run_name))\n",
      "save_html(fname, html)\n",
      "html"
     ],
     "language": "python",
     "metadata": {},
     "outputs": []
    },
    {
     "cell_type": "markdown",
     "metadata": {},
     "source": [
      "### Skill 4: Low passed R$^2$\n",
      "\n",
      "http://dx.doi.org/10.1175/1520-0450(1979)018%3C1016:LFIOAT%3E2.0.CO;2\n",
      "\n",
      "https://github.com/ioos/secoora/issues/188"
     ]
    },
    {
     "cell_type": "code",
     "collapsed": false,
     "input": [
      "from utilities import r2\n",
      "\n",
      "dfs = load_ncs(run_name)\n",
      "\n",
      "df = apply_skill(dfs, r2, remove_mean=True, filter_tides=True)\n",
      "df = rename_cols(df)\n",
      "skill_score['low_pass_r2'] = df.copy()\n",
      "\n",
      "# Filter out stations with no valid comparison.\n",
      "df.dropna(how='all', axis=1, inplace=True)\n",
      "df = df.applymap('{:.2f}'.format).replace('nan', '--')\n",
      "\n",
      "html = to_html(df.T)\n",
      "fname = os.path.join(run_name, 'low_pass_r2.html'.format(run_name))\n",
      "save_html(fname, html)\n",
      "html"
     ],
     "language": "python",
     "metadata": {},
     "outputs": []
    },
    {
     "cell_type": "markdown",
     "metadata": {},
     "source": [
      "### Skill 4: Low passed and re-sampled (3H) R$^2$\n",
      "\n",
      "https://github.com/ioos/secoora/issues/183"
     ]
    },
    {
     "cell_type": "code",
     "collapsed": false,
     "input": [
      "from utilities import r2\n",
      "\n",
      "dfs = load_ncs(run_name)\n",
      "\n",
      "# SABGOM dt = 3 hours.\n",
      "dfs = dfs.swapaxes('items', 'major').resample('3H').swapaxes('items', 'major')\n",
      "\n",
      "df = apply_skill(dfs, r2, remove_mean=True, filter_tides=False)\n",
      "df = rename_cols(df)\n",
      "skill_score['low_pass_resampled_3H_r2'] = df.copy()\n",
      "\n",
      "# Filter out stations with no valid comparison.\n",
      "df.dropna(how='all', axis=1, inplace=True)\n",
      "df = df.applymap('{:.2f}'.format).replace('nan', '--')\n",
      "\n",
      "html = to_html(df.T)\n",
      "fname = os.path.join(run_name, 'low_pass_resampled_3H_r2.html'.format(run_name))\n",
      "save_html(fname, html)\n",
      "html"
     ],
     "language": "python",
     "metadata": {},
     "outputs": []
    },
    {
     "cell_type": "markdown",
     "metadata": {},
     "source": [
      "### Save scores"
     ]
    },
    {
     "cell_type": "code",
     "collapsed": false,
     "input": [
      "fname = os.path.join(run_name, 'skill_score.pkl')\n",
      "with open(fname,'wb') as f:\n",
      "    pickle.dump(skill_score, f)"
     ],
     "language": "python",
     "metadata": {},
     "outputs": []
    },
    {
     "cell_type": "markdown",
     "metadata": {},
     "source": [
      "### Normalized Taylor diagrams\n",
      "\n",
      "The radius is model standard deviation error divided  by observations deviation,\n",
      "azimuth is arc-cosine of cross correlation (R), and distance to point (1, 0) on the\n",
      "abscissa is Centered RMS."
     ]
    },
    {
     "cell_type": "code",
     "collapsed": false,
     "input": [
      "%matplotlib inline\n",
      "import matplotlib.pyplot as plt\n",
      "from utilities.taylor_diagram import TaylorDiagram\n",
      "\n",
      "\n",
      "def make_taylor(samples):\n",
      "    fig = plt.figure(figsize=(9, 9))\n",
      "    dia = TaylorDiagram(samples['std']['OBS_DATA'],\n",
      "                        fig=fig,\n",
      "                        label=\"Observation\")\n",
      "    colors = plt.matplotlib.cm.jet(np.linspace(0, 1, len(samples)))\n",
      "    # Add samples to Taylor diagram.\n",
      "    samples.drop('OBS_DATA', inplace=True)\n",
      "    for model, row in samples.iterrows():\n",
      "        dia.add_sample(row['std'], row['corr'], marker='s', ls='',\n",
      "                       label=model)\n",
      "    # Add RMS contours, and label them.\n",
      "    contours = dia.add_contours(colors='0.5')\n",
      "    plt.clabel(contours, inline=1, fontsize=10)\n",
      "    # Add a figure legend.\n",
      "    kw = dict(prop=dict(size='small'), loc='upper right')\n",
      "    leg = fig.legend(dia.samplePoints,\n",
      "                     [p.get_label() for p in dia.samplePoints],\n",
      "                     numpoints=1, **kw)\n",
      "    return fig"
     ],
     "language": "python",
     "metadata": {},
     "outputs": []
    },
    {
     "cell_type": "code",
     "collapsed": false,
     "input": [
      "dfs = load_ncs(run_name)\n",
      "\n",
      "# Bin and interpolate all series to 1 hour.\n",
      "freq = '3H'\n",
      "for station, df in list(dfs.iteritems()):\n",
      "    df = df.resample(freq).interpolate().dropna(axis=1)\n",
      "    if 'OBS_DATA' in df:\n",
      "        samples = DataFrame.from_dict(dict(std=df.std(),\n",
      "                                           corr=df.corr()['OBS_DATA']))\n",
      "    else:\n",
      "        continue\n",
      "    samples[samples < 0] = np.NaN\n",
      "    samples.dropna(inplace=True)\n",
      "    if len(samples) <= 2:  # 1 obs 1 model.\n",
      "        continue\n",
      "    fig = make_taylor(samples)\n",
      "    fig.savefig(os.path.join(run_name, '{}.png'.format(station)))\n",
      "    plt.close(fig)"
     ],
     "language": "python",
     "metadata": {},
     "outputs": []
    }
   ],
   "metadata": {}
  }
 ]
}