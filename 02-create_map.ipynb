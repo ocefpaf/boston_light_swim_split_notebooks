{
 "cells": [
  {
   "cell_type": "markdown",
   "metadata": {},
   "source": [
    "<img style='float: left' width=\"150px\" src=\"http://bostonlightswim.org/wp/wp-content/uploads/2011/08/BLS-front_4-color.jpg\">\n",
    "<br><br>\n",
    "\n",
    "## [The Boston Light Swim](http://bostonlightswim.org/)\n",
    "\n",
    "### Sea Surface Temperature time-series maps"
   ]
  },
  {
   "cell_type": "markdown",
   "metadata": {},
   "source": [
    "### Load configuration"
   ]
  },
  {
   "cell_type": "code",
   "execution_count": null,
   "metadata": {
    "collapsed": false
   },
   "outputs": [],
   "source": [
    "import os\n",
    "\n",
    "try:\n",
    "    import cPickle as pickle\n",
    "except ImportError:\n",
    "    import pickle\n",
    "\n",
    "run_name = 'latest'\n",
    "fname = os.path.join(run_name, 'config.pkl')\n",
    "with open(fname, 'rU') as f:\n",
    "    config = pickle.load(f)"
   ]
  },
  {
   "cell_type": "markdown",
   "metadata": {},
   "source": [
    "### Load skill_score"
   ]
  },
  {
   "cell_type": "code",
   "execution_count": null,
   "metadata": {
    "collapsed": false
   },
   "outputs": [],
   "source": [
    "try:\n",
    "    import cPickle as pickle\n",
    "except ImportError:\n",
    "    import pickle\n",
    "\n",
    "fname = os.path.join(run_name, 'skill_score.pkl')\n",
    "with open(fname, 'rU') as f:\n",
    "    skill_score = pickle.load(f)"
   ]
  },
  {
   "cell_type": "code",
   "execution_count": null,
   "metadata": {
    "collapsed": false
   },
   "outputs": [],
   "source": [
    "import numpy as np\n",
    "from glob import glob\n",
    "from pandas import Panel\n",
    "from utilities import nc2df\n",
    "\n",
    "\n",
    "def load_ncs(run_name):\n",
    "    fname = '{}-{}.nc'.format\n",
    "    ALL_OBS_DATA = nc2df(os.path.join(run_name,\n",
    "                                      fname(run_name, 'OBS_DATA')))\n",
    "    index = ALL_OBS_DATA.index\n",
    "    dfs = dict(OBS_DATA=ALL_OBS_DATA)\n",
    "    for fname in glob(os.path.join(run_name, \"*.nc\")):\n",
    "        if 'OBS_DATA' in fname:\n",
    "            continue\n",
    "        else:\n",
    "            model = fname.split('.')[0].split('-')[-1]\n",
    "            df = nc2df(fname)\n",
    "            # FIXME: Horrible work around duplicate times.\n",
    "            if len(df.index.values) != len(np.unique(df.index.values)):\n",
    "                kw = dict(subset='index', take_last=True)\n",
    "                df = df.reset_index().drop_duplicates(**kw).set_index('index')\n",
    "            kw = dict(method='time', limit=2)\n",
    "            df = df.reindex(index).interpolate(**kw).ix[index]\n",
    "            dfs.update({model: df})\n",
    "\n",
    "    return Panel.fromDict(dfs).swapaxes(0, 2)"
   ]
  },
  {
   "cell_type": "code",
   "execution_count": null,
   "metadata": {
    "collapsed": false
   },
   "outputs": [],
   "source": [
    "from mpld3 import save_html\n",
    "import matplotlib.pyplot as plt\n",
    "from mpld3.plugins import LineLabelTooltip, connect\n",
    "\n",
    "from utilities import make_map\n",
    "\n",
    "bbox = config['bbox']\n",
    "units = config['units']\n",
    "run_name = config['run_name']\n",
    "\n",
    "kw = dict(zoom_start=11, line=True, states=False, secoora_stations=False, layers=False)\n",
    "mapa = make_map(bbox, **kw)"
   ]
  },
  {
   "cell_type": "markdown",
   "metadata": {},
   "source": [
    "### Clusters"
   ]
  },
  {
   "cell_type": "code",
   "execution_count": null,
   "metadata": {
    "collapsed": false
   },
   "outputs": [],
   "source": [
    "from glob import glob\n",
    "from operator import itemgetter\n",
    "\n",
    "import iris\n",
    "import folium\n",
    "from folium.plugins import MarkerCluster\n",
    "from pandas import DataFrame, read_csv\n",
    "\n",
    "fname = '{}-all_obs.csv'.format(run_name)\n",
    "all_obs = read_csv(os.path.join(run_name, fname), index_col='name')\n",
    "\n",
    "big_list = []\n",
    "for fname in glob(os.path.join(run_name, \"*.nc\")):\n",
    "    if 'OBS_DATA' in fname:\n",
    "        continue\n",
    "    cube = iris.load_cube(fname)\n",
    "    model = fname.split('-')[-1].split('.')[0]\n",
    "    lons = cube.coord(axis='X').points\n",
    "    lats = cube.coord(axis='Y').points\n",
    "    stations = cube.coord('station name').points\n",
    "    models = [model]*lons.size\n",
    "    lista = zip(models, lons.tolist(), lats.tolist(), stations.tolist())\n",
    "    big_list.extend(lista)\n",
    "\n",
    "big_list.sort(key=itemgetter(3))\n",
    "df = DataFrame(big_list, columns=['name', 'lon', 'lat', 'station'])\n",
    "df.set_index('station', drop=True, inplace=True)\n",
    "groups = df.groupby(df.index)\n",
    "\n",
    "\n",
    "locations, popups = [], []\n",
    "for station, info in groups:\n",
    "    sta_name = all_obs['station'][all_obs['station'].astype(str) == station].index[0]\n",
    "    for lat, lon, name in zip(info.lat, info.lon, info.name):\n",
    "        locations.append([lat, lon])\n",
    "        popups.append('[{}]: {}'.format(name, sta_name))\n",
    "\n",
    "MarkerCluster(locations=locations, popups=popups).add_to(mapa);"
   ]
  },
  {
   "cell_type": "markdown",
   "metadata": {},
   "source": [
    "### Model and observations plots"
   ]
  },
  {
   "cell_type": "code",
   "execution_count": null,
   "metadata": {
    "collapsed": false,
    "scrolled": true
   },
   "outputs": [],
   "source": [
    "%matplotlib inline\n",
    "\n",
    "mean_bias = skill_score['mean_bias'].applymap('{:.2f}'.format).replace('nan', '--')\n",
    "skill = skill_score['rmse'].applymap('{:.2f}'.format).replace('nan', '--')\n",
    "\n",
    "resolution, width, height = 75, 7, 3\n",
    "\n",
    "def make_plot():\n",
    "    fig, ax = plt.subplots(figsize=(width, height))\n",
    "    ax.set_ylabel('Sea surface Temperature ({})'.format(units))\n",
    "    ax.grid(True)\n",
    "    return fig, ax\n",
    "\n",
    "\n",
    "dfs = load_ncs(run_name)\n",
    "dfs = dfs.swapaxes('items', 'major').resample('30min').swapaxes('items', 'major')\n",
    "\n",
    "for station in dfs:\n",
    "    sta_name = all_obs['station'][all_obs['station'].astype(str) == station].index[0]\n",
    "    df = dfs[station].dropna(axis=1, how='all')\n",
    "    if df.empty:\n",
    "        continue\n",
    "    labels = []\n",
    "    fig, ax = make_plot()\n",
    "    for col in df.columns:\n",
    "        serie = df[col].dropna()\n",
    "        lines = ax.plot(serie.index, serie, label=col,\n",
    "                        linewidth=2.5, alpha=0.5)\n",
    "        if 'OBS_DATA' not in col:\n",
    "            text0 = col\n",
    "            text1 = mean_bias[sta_name][col]\n",
    "            text2 = skill[sta_name][col]\n",
    "            tooltip = '{}:\\nbias {}\\nskill: {}'.format\n",
    "            labels.append(tooltip(text0, text1, text2))\n",
    "        else:\n",
    "            labels.append('OBS_DATA')\n",
    "    kw = dict(loc='upper center', bbox_to_anchor=(0.5, 1.05), numpoints=1,\n",
    "              ncol=2, framealpha=0)\n",
    "    l = ax.legend(**kw)\n",
    "    l.set_title(\"\")  # Workaround str(None).\n",
    "\n",
    "    [connect(fig, LineLabelTooltip(line, name))\n",
    "     for line, name in zip(ax.lines, labels)]\n",
    "\n",
    "    html = 'station_{}.html'.format(station)\n",
    "    figname = '{}/{}'.format(run_name, html)\n",
    "    save_html(fig, figname)\n",
    "    plt.close(fig)\n",
    "\n",
    "    with open(figname, 'r') as f:\n",
    "        html = f.read()\n",
    "    iframe = folium.element.IFrame(html,\n",
    "                                   width=(width*resolution)+75,\n",
    "                                   height=(height*resolution)+50)\n",
    "    popup = folium.Popup(iframe, max_width=2650)\n",
    "    \n",
    "    if (df.columns == 'OBS_DATA').all():\n",
    "        icon = folium.Icon(color='blue', icon_color='white', icon='ok')\n",
    "    else:\n",
    "        icon = folium.Icon(color='green', icon_color='white', icon='ok')\n",
    "    obs = all_obs[all_obs['station'].astype(str) == station].squeeze()\n",
    "    \n",
    "    # mapa.simple_marker(location=[obs['lat'], obs['lon']], **kw)\n",
    "    folium.Marker(location=[obs['lat'], obs['lon']], icon=icon, popup=popup).add_to(mapa);"
   ]
  },
  {
   "cell_type": "code",
   "execution_count": null,
   "metadata": {
    "collapsed": false
   },
   "outputs": [],
   "source": [
    "mapa"
   ]
  }
 ],
 "metadata": {
  "kernelspec": {
   "display_name": "Python 2",
   "language": "python",
   "name": "python2"
  },
  "language_info": {
   "codemirror_mode": {
    "name": "ipython",
    "version": 2
   },
   "file_extension": ".py",
   "mimetype": "text/x-python",
   "name": "python",
   "nbconvert_exporter": "python",
   "pygments_lexer": "ipython2",
   "version": "2.7.11"
  },
  "widgets": {
   "state": {},
   "version": "1.1.2"
  }
 },
 "nbformat": 4,
 "nbformat_minor": 0
}
